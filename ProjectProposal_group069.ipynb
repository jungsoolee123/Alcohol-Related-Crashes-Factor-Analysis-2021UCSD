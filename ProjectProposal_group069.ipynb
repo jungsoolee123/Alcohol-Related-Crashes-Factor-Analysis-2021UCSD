{
 "cells": [
  {
   "cell_type": "markdown",
   "metadata": {},
   "source": [
    "# COGS 108 - Final Project Proposal"
   ]
  },
  {
   "cell_type": "markdown",
   "metadata": {},
   "source": [
    "# Names\n",
    "\n",
    "- Lu Zhang\n",
    "- Jungsoo Lee\n",
    "- Mengyuan Zhang\n",
    "- Zaira Hernandez"
   ]
  },
  {
   "cell_type": "markdown",
   "metadata": {},
   "source": [
    "# Research Question"
   ]
  },
  {
   "cell_type": "markdown",
   "metadata": {},
   "source": [
    "How can we explain the number of alcohol-related car accidents happened in California using various factors such as alcohol outlet density, drinking age population, and alcohol sales? "
   ]
  },
  {
   "cell_type": "markdown",
   "metadata": {},
   "source": [
    "## Background and Prior Work"
   ]
  },
  {
   "cell_type": "markdown",
   "metadata": {},
   "source": [
    "Drunk driving is the number one cause of car accidents happened in the U.S. besides distracted driving. Each day there are 29 people dead in automobile accidents because of alcohol intake (1). We are interested in researching about this topic because the alcohol-related car accidents are completely avoidable. By figuring out what factors may cause the increasing of car accidents and what elements prevent them from happening, we can save many families' life. In 2018, total alcohol-impaired driving fatalities in California are as high as 1,069. It’s more than ten percent of the national alcohol-related driving fatalities (3). The monthly retail sales of alcohol in the United States grew from 3,740 million dollars in 2017 to 6,421 million dollars in 2020 (4). Since quarantine started in 2020, the online sales of alcohol also rises dramatically. More people are adapting into buying alcohol through e-commerce because it’s easily accessible (5). As the accessibility and availability of alcohol grows rapidly, it’s crucial to keep emphasizing the significance of safe driving and finding many ways to prevent the death rates from growing. \n",
    "\n",
    "References (include links):\n",
    "\n",
    "1)https://www.thezebra.com/resources/research/drunk-driving-statistics/\n",
    "\n",
    "2)https://www.ncbi.nlm.nih.gov/pmc/articles/PMC3860569/\n",
    "\n",
    "3)https://www.responsibility.org/alcohol-statistics/state-map/state/california\n",
    "\n",
    "4)https://www.statista.com/statistics/805026/beer-wine-and-liquor-store-sales-us-by-month/\n",
    "\n",
    "5)https://www.fooddive.com/news/online-alcohol-sales-may-see-permanent-rise-as-coronavirus-alters-shopping/576282/ "
   ]
  },
  {
   "cell_type": "markdown",
   "metadata": {},
   "source": [
    "# Hypothesis\n"
   ]
  },
  {
   "cell_type": "markdown",
   "metadata": {},
   "source": [
    " The deaths caused by traffic accidents in one area are correlated with many factors such as the density of alcohol shops in that area, the age groups of local population, and the amounts of alcohol sales in that area."
   ]
  },
  {
   "cell_type": "markdown",
   "metadata": {},
   "source": [
    "# Data"
   ]
  },
  {
   "cell_type": "markdown",
   "metadata": {},
   "source": [
    "https://www.abc.ca.gov/licensing/licensing-reports/adhoc-report/?RPTTYPE=8&CITY=SAN+DIEGO%2CSAN+FRANCISCO%2CSOUTH+SAN+FRANCISCO\n",
    "\n",
    "\n",
    "https://www.researchgate.net/publication/304579034_Apparent_Per_Capita_Alcohol_Consumption_National_State_and_Regional_Trends_1977-2014 \n",
    "\n",
    "https://www.responsibility.org/alcohol-statistics/state-map/state/california \n",
    "\n",
    "\n",
    "We will compare relationships between the number of alcohol-related car accidents and 3 various features. Ideally we would like to collect datasets from governmental organizations. \n",
    "The ideal dataset will be:\n",
    "\n",
    "1. Number of alcohol-related car accidents by county\n",
    "2. Alcohol outlet density by county in\n",
    "3. Population of drinking age (20-60) by county\n",
    "4. Alcohol sales by county\n"
   ]
  },
  {
   "cell_type": "markdown",
   "metadata": {},
   "source": [
    "# Ethics & Privacy"
   ]
  },
  {
   "cell_type": "markdown",
   "metadata": {},
   "source": [
    "The data sets we found are publicly available and from open source. Privacy concerns are mainly tied to individuals. Data about DUI history or causes of car accidents can be sensitive personal information. \n",
    "\n",
    "Potential bias: Our analysis is mainly focused in California and the results might improperly generalize the issues in different areas. Alcohol behavior is heavily related to the region's demography. The relationship between alcohol sales and car accidents might not be causational.\n",
    "There are also some variables that potentially make our analysis biased: the local population density and geographical environment could influence the amount of people consuming alcohol and the amount of car accidents. Also, since most of the colleges have strict regulation on alcohol using, the areas with colleges could be potential outliers in our dataset."
   ]
  },
  {
   "cell_type": "markdown",
   "metadata": {},
   "source": [
    "# Team Expectations "
   ]
  },
  {
   "cell_type": "markdown",
   "metadata": {},
   "source": [
    "The group members would communicate on the deciding on the project topic, searching for possible datasets, and honing the data science question.\n",
    " \n",
    "The group members would be in contact including communicating through messengers and zoom meeting.\n",
    " \n",
    "Each of the group members would contribute equally on creating & editing the text and code and complete their assigned tasks.\n",
    " \n",
    "Each of the group members would check in with each other, discuss progress, and help out with other teammates when they have difficulties on their tasks.\n",
    " \n",
    "The group members would follow the team deadlines and team contract.\n"
   ]
  },
  {
   "cell_type": "markdown",
   "metadata": {},
   "source": [
    "# Project Timeline Proposal"
   ]
  },
  {
   "cell_type": "markdown",
   "metadata": {},
   "source": [
    "| Meeting Date  | Meeting Time| Completed Before Meeting  | Discuss at Meeting |\n",
    "|---|---|---|---|\n",
    "| 1/28  |  5 PM | Read & Think about COGS 108 expectations; brainstorm topics/questions  | Determine best form of communication; Discuss and decide on final project topic; discuss hypothesis; begin background research | \n",
    "| 1/29  |  10 AM |  Do background research on topic | Discuss ideal dataset(s) and ethics; draft project proposal | \n",
    "| 1/29  | 10 AM  | Edit, finalize, and submit proposal; Search for datasets  | Discuss Wrangling and possible analytical approaches; Assign group members to lead each specific part   |\n",
    "| 2/10  | 6 PM  | Import & Wrangle Data (Ant Man); EDA (Hulk) | Review/Edit wrangling/EDA; Discuss Analysis Plan   |\n",
    "| 2/23  | 12 PM  | Finalize wrangling/EDA; Begin Analysis (Iron Man; Thor) | Discuss/edit Analysis; Complete project check-in |\n",
    "| 3/13  | 12 PM  | Complete analysis; Draft results/conclusion/discussion (Wasp)| Discuss/edit full project |\n",
    "| 3/19  | Before 11:59 PM  | NA | Turn in Final Project & Group Project Surveys |"
   ]
  }
 ],
 "metadata": {
  "kernelspec": {
   "display_name": "Python 3",
   "language": "python",
   "name": "python3"
  },
  "language_info": {
   "codemirror_mode": {
    "name": "ipython",
    "version": 3
   },
   "file_extension": ".py",
   "mimetype": "text/x-python",
   "name": "python",
   "nbconvert_exporter": "python",
   "pygments_lexer": "ipython3",
   "version": "3.7.9"
  }
 },
 "nbformat": 4,
 "nbformat_minor": 2
}
